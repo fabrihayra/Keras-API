{
  "nbformat": 4,
  "nbformat_minor": 0,
  "metadata": {
    "colab": {
      "provenance": []
    },
    "kernelspec": {
      "name": "python3",
      "display_name": "Python 3"
    },
    "language_info": {
      "name": "python"
    }
  },
  "cells": [
    {
      "cell_type": "markdown",
      "source": [
        "##Machile Learning Training Model \n",
        "Loading a prebuilt dataset, building a neural network machine learning model that classifies images, training the neural network and evaluating the accuracy of the model."
      ],
      "metadata": {
        "id": "kNBsWxe6cXeV"
      }
    },
    {
      "cell_type": "code",
      "execution_count": 1,
      "metadata": {
        "colab": {
          "base_uri": "https://localhost:8080/"
        },
        "id": "w1UMUSQzZ7AH",
        "outputId": "e89d5edb-9d0c-46c3-cc28-a2d3098ce002"
      },
      "outputs": [
        {
          "output_type": "stream",
          "name": "stdout",
          "text": [
            "TensorFlow version: 2.12.0\n"
          ]
        }
      ],
      "source": [
        "import tensorflow as tf \n",
        "print(\"TensorFlow version:\", tf.__version__)"
      ]
    },
    {
      "cell_type": "code",
      "source": [
        "mnist = tf.keras.datasets.mnist\n",
        "(x_train, y_train), (x_test, y_test) = mnist.load_data()\n",
        "x_train, x_test = x_train / 255.0, x_test / 255.0"
      ],
      "metadata": {
        "colab": {
          "base_uri": "https://localhost:8080/"
        },
        "id": "jUQ1ZZzBaE6l",
        "outputId": "3dd818e4-2832-437e-d53b-b12723bf0d5d"
      },
      "execution_count": 2,
      "outputs": [
        {
          "output_type": "stream",
          "name": "stdout",
          "text": [
            "Downloading data from https://storage.googleapis.com/tensorflow/tf-keras-datasets/mnist.npz\n",
            "11490434/11490434 [==============================] - 1s 0us/step\n"
          ]
        }
      ]
    },
    {
      "cell_type": "code",
      "source": [
        "model = tf.keras.models.Sequential([\n",
        "    tf.keras.layers.Flatten(input_shape=(28, 28)),\n",
        "    tf.keras.layers.Dense(128, activation='relu'),\n",
        "    tf.keras.layers.Dropout(0,2),\n",
        "    tf.keras.layers.Dense(10)\n",
        "])\n"
      ],
      "metadata": {
        "id": "nwQv5JS8aaqp"
      },
      "execution_count": 3,
      "outputs": []
    },
    {
      "cell_type": "code",
      "source": [
        "predictions = model(x_train[:1]).numpy()\n",
        "predictions"
      ],
      "metadata": {
        "colab": {
          "base_uri": "https://localhost:8080/"
        },
        "id": "D3PozBi1a36N",
        "outputId": "ff4de8f1-bfc3-489f-85d0-17571975a441"
      },
      "execution_count": 4,
      "outputs": [
        {
          "output_type": "execute_result",
          "data": {
            "text/plain": [
              "array([[ 0.09091309, -0.04360475,  0.26475254, -0.66131634,  0.08815846,\n",
              "         1.3488001 , -0.08289661,  0.13114026,  0.16946177, -1.2001619 ]],\n",
              "      dtype=float32)"
            ]
          },
          "metadata": {},
          "execution_count": 4
        }
      ]
    },
    {
      "cell_type": "code",
      "source": [
        "tf.nn.softmax(predictions).numpy()"
      ],
      "metadata": {
        "colab": {
          "base_uri": "https://localhost:8080/"
        },
        "id": "udP-d7jgbHL0",
        "outputId": "12234436-8a87-44f7-ce27-24f515901a0f"
      },
      "execution_count": 5,
      "outputs": [
        {
          "output_type": "execute_result",
          "data": {
            "text/plain": [
              "array([[0.08858383, 0.07743444, 0.10540277, 0.04175086, 0.08834016,\n",
              "        0.31163618, 0.0744509 , 0.09221996, 0.09582256, 0.02435834]],\n",
              "      dtype=float32)"
            ]
          },
          "metadata": {},
          "execution_count": 5
        }
      ]
    },
    {
      "cell_type": "code",
      "source": [
        "loss_fn = tf.keras.losses.SparseCategoricalCrossentropy(from_logits=True)"
      ],
      "metadata": {
        "id": "-9B5S64ObLwh"
      },
      "execution_count": 6,
      "outputs": []
    },
    {
      "cell_type": "code",
      "source": [
        "loss_fn(y_train[:1], predictions).numpy()"
      ],
      "metadata": {
        "colab": {
          "base_uri": "https://localhost:8080/"
        },
        "id": "OXe7M-Hnba5c",
        "outputId": "00bcfa30-6a25-4a84-be77-3889404d78c3"
      },
      "execution_count": 7,
      "outputs": [
        {
          "output_type": "execute_result",
          "data": {
            "text/plain": [
              "1.1659188"
            ]
          },
          "metadata": {},
          "execution_count": 7
        }
      ]
    },
    {
      "cell_type": "code",
      "source": [
        "model.compile(optimizer='adam',\n",
        "              loss=loss_fn,\n",
        "              metrics=['accuracy'])"
      ],
      "metadata": {
        "id": "p-Vewsl5bfq4"
      },
      "execution_count": 8,
      "outputs": []
    },
    {
      "cell_type": "code",
      "source": [
        "model.fit(x_train, y_train, epochs=5)"
      ],
      "metadata": {
        "colab": {
          "base_uri": "https://localhost:8080/"
        },
        "id": "RAK0XWz8bqUS",
        "outputId": "2988ef72-2ecd-4471-c779-2c136c9f57ec"
      },
      "execution_count": 10,
      "outputs": [
        {
          "output_type": "stream",
          "name": "stdout",
          "text": [
            "Epoch 1/5\n",
            "1875/1875 [==============================] - 9s 5ms/step - loss: 0.2585 - accuracy: 0.9271\n",
            "Epoch 2/5\n",
            "1875/1875 [==============================] - 7s 4ms/step - loss: 0.1154 - accuracy: 0.9663\n",
            "Epoch 3/5\n",
            "1875/1875 [==============================] - 8s 4ms/step - loss: 0.0786 - accuracy: 0.9765\n",
            "Epoch 4/5\n",
            "1875/1875 [==============================] - 12s 7ms/step - loss: 0.0592 - accuracy: 0.9820\n",
            "Epoch 5/5\n",
            "1875/1875 [==============================] - 9s 5ms/step - loss: 0.0460 - accuracy: 0.9858\n"
          ]
        },
        {
          "output_type": "execute_result",
          "data": {
            "text/plain": [
              "<keras.callbacks.History at 0x7f0d28847280>"
            ]
          },
          "metadata": {},
          "execution_count": 10
        }
      ]
    },
    {
      "cell_type": "code",
      "source": [
        "model.evaluate(x_test, y_test, verbose=2)"
      ],
      "metadata": {
        "colab": {
          "base_uri": "https://localhost:8080/"
        },
        "id": "2sXlyZBsbu4L",
        "outputId": "53a414d5-6880-407f-b817-96b376a103f9"
      },
      "execution_count": 11,
      "outputs": [
        {
          "output_type": "stream",
          "name": "stdout",
          "text": [
            "313/313 - 2s - loss: 0.0803 - accuracy: 0.9737 - 2s/epoch - 7ms/step\n"
          ]
        },
        {
          "output_type": "execute_result",
          "data": {
            "text/plain": [
              "[0.08030527085065842, 0.9736999869346619]"
            ]
          },
          "metadata": {},
          "execution_count": 11
        }
      ]
    },
    {
      "cell_type": "code",
      "source": [
        "probability_model = tf.keras.Sequential([\n",
        "    model,\n",
        "    tf.keras.layers.Softmax()\n",
        "])"
      ],
      "metadata": {
        "id": "VDN1ieIccEfX"
      },
      "execution_count": 12,
      "outputs": []
    },
    {
      "cell_type": "code",
      "source": [
        "probability_model(x_test[:5])"
      ],
      "metadata": {
        "colab": {
          "base_uri": "https://localhost:8080/"
        },
        "id": "W_JydQclcO4W",
        "outputId": "b2c769af-8d3c-47dc-cf87-48e8c4014fab"
      },
      "execution_count": 13,
      "outputs": [
        {
          "output_type": "execute_result",
          "data": {
            "text/plain": [
              "<tf.Tensor: shape=(5, 10), dtype=float32, numpy=\n",
              "array([[3.50397023e-09, 3.53463120e-10, 4.02235941e-07, 2.63119058e-04,\n",
              "        5.65774545e-11, 7.08803638e-09, 3.22300475e-14, 9.99735653e-01,\n",
              "        1.46640655e-08, 8.29432906e-07],\n",
              "       [1.07981124e-09, 2.57997954e-06, 9.99997139e-01, 3.08978258e-07,\n",
              "        4.90694020e-13, 9.62232072e-10, 4.38746366e-11, 6.66233832e-14,\n",
              "        1.03871631e-08, 1.93279678e-13],\n",
              "       [1.61400578e-06, 9.98446286e-01, 4.52786480e-04, 1.10847461e-04,\n",
              "        1.10652636e-05, 6.73904287e-05, 1.90783721e-05, 3.65434884e-04,\n",
              "        5.23052120e-04, 2.40493500e-06],\n",
              "       [9.99987602e-01, 5.73201773e-12, 1.08013583e-05, 5.60215305e-08,\n",
              "        3.09310355e-10, 1.49291481e-07, 7.95216781e-09, 1.26643511e-06,\n",
              "        4.14346085e-10, 1.40562221e-07],\n",
              "       [1.89479579e-05, 3.00753505e-10, 2.29827219e-05, 7.49044716e-07,\n",
              "        9.96456921e-01, 3.82934324e-08, 7.32831040e-06, 3.19353858e-05,\n",
              "        5.57430303e-06, 3.45551083e-03]], dtype=float32)>"
            ]
          },
          "metadata": {},
          "execution_count": 13
        }
      ]
    },
    {
      "cell_type": "code",
      "source": [],
      "metadata": {
        "id": "PEASy0oHcS5u"
      },
      "execution_count": null,
      "outputs": []
    }
  ]
}